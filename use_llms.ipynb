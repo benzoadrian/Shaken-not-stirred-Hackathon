{
 "cells": [
  {
   "cell_type": "code",
   "execution_count": 1,
   "id": "28c03ed8-a7b7-4a99-9cfc-30ed59c7861d",
   "metadata": {},
   "outputs": [],
   "source": [
    "import boto3\n",
    "import json\n",
    "import re"
   ]
  },
  {
   "cell_type": "markdown",
   "id": "b6576d02-34fc-4e14-adfc-b6fbf662d298",
   "metadata": {
    "jp-MarkdownHeadingCollapsed": true
   },
   "source": [
    "### Mistral 7B"
   ]
  },
  {
   "cell_type": "markdown",
   "id": "98e04998-6313-4e98-8725-b2a527a20f03",
   "metadata": {},
   "source": [
    "Prompt template for Mistral: https://www.promptingguide.ai/models/mistral-7b"
   ]
  },
  {
   "cell_type": "code",
   "execution_count": 2,
   "id": "c919d6b9-3902-4456-837b-df5f3905b554",
   "metadata": {},
   "outputs": [],
   "source": [
    "SYSTEM_PROMPT = \"\"\"<s>[INST] You are an assistant helping persons to book medical reservations. You should answer in the same language as the person who \n",
    "needs help. First, the person will tell you what he needs. Then, you will be given options for the reservation. \n",
    "The options will be presented as a list: [Option A, Option B, ...]. Notice that the options are in French because the customers are in France.\n",
    "You will have to rank the best 3 options from all the listed options, with respect to the needs of the person, or all of them if there are less than 3.\n",
    "If not explitally asked, you must not justify your answer.\n",
    "The format for the answer, that you must imperatively follow, including the '[' and ']', is: [best option, 2nd best option, 3rd best option]\\n\"\"\""
   ]
  },
  {
   "cell_type": "code",
   "execution_count": 3,
   "id": "bf159277-b35a-4e45-8a23-627841b56b22",
   "metadata": {},
   "outputs": [],
   "source": [
    "user_message = \"I have some headeache, I want to visit a doctor.\""
   ]
  },
  {
   "cell_type": "code",
   "execution_count": 4,
   "id": "cdc6fdcf-934b-4df0-bc4c-c6542cb379bb",
   "metadata": {},
   "outputs": [],
   "source": [
    "TASK_PROMPT = f\"\"\"Here is the message of the user:\\n\\n{user_message}\\n\\nWhich type of specialist should this person see?\n",
    "Here is the list of options: \n",
    "[Chirurgien dermatologique, \n",
    "Laser, \n",
    "Médecin généraliste, \n",
    "Spécialiste en chirurgie plastique reconstructrice et esthétique]\n",
    "Do not explain your answer.\n",
    "Do not forget to answer in the following format, without any addition: [best option, 2nd best option, 3rd best option][/INST]\n",
    "[\"\"\""
   ]
  },
  {
   "cell_type": "code",
   "execution_count": 5,
   "id": "6dbcc6b6-f573-4520-be16-79d07a8d290d",
   "metadata": {},
   "outputs": [
    {
     "name": "stdout",
     "output_type": "stream",
     "text": [
      "<s>[INST] You are an assistant helping persons to book medical reservations. You should answer in the same language as the person who \n",
      "needs help. First, the person will tell you what he needs. Then, you will be given options for the reservation. \n",
      "The options will be presented as a list: [Option A, Option B, ...]. Notice that the options are in French because the customers are in France.\n",
      "You will have to rank the best 3 options from all the listed options, with respect to the needs of the person, or all of them if there are less than 3.\n",
      "If not explitally asked, you must not justify your answer.\n",
      "The format for the answer, that you must imperatively follow, including the '[' and ']', is: [best option, 2nd best option, 3rd best option]\n",
      "Here is the message of the user:\n",
      "\n",
      "I have some headeache, I want to visit a doctor.\n",
      "\n",
      "Which type of specialist should this person see?\n",
      "Here is the list of options: \n",
      "[Chirurgien dermatologique, \n",
      "Laser, \n",
      "Médecin généraliste, \n",
      "Spécialiste en chirurgie plastique reconstructrice et esthétique]\n",
      "Do not explain your answer.\n",
      "Do not forget to answer in the following format, without any addition: [best option, 2nd best option, 3rd best option][/INST]\n",
      "[\n"
     ]
    }
   ],
   "source": [
    "message = ''.join([SYSTEM_PROMPT, TASK_PROMPT])\n",
    "prompt = json.dumps(message)\n",
    "print(message)"
   ]
  },
  {
   "cell_type": "code",
   "execution_count": 6,
   "id": "3151f83d-39a2-4516-b4eb-8995ccc0a68c",
   "metadata": {},
   "outputs": [
    {
     "name": "stdout",
     "output_type": "stream",
     "text": [
      "Médecin généraliste\", \"Spécialiste en médecine interne\", \"Chirurgien dermatologique\"\n"
     ]
    }
   ],
   "source": [
    "bedrock = boto3.client(service_name=\"bedrock-runtime\")\n",
    "\n",
    "body = json.dumps({\n",
    "    \"prompt\": prompt,\n",
    "    \"max_tokens\": 512,\n",
    "    \"top_p\": 0.8,\n",
    "    \"temperature\": 0.5,\n",
    "})\n",
    "\n",
    "modelId = \"mistral.mistral-7b-instruct-v0:2\"\n",
    "\n",
    "accept = \"application/json\"\n",
    "contentType = \"application/json\"\n",
    "\n",
    "response = bedrock.invoke_model(\n",
    "    body=body,\n",
    "    modelId=modelId,\n",
    "    accept=accept,\n",
    "    contentType=contentType\n",
    ")\n",
    "\n",
    "# Read and parse the response body\n",
    "response_body = json.loads(response.get('body').read())\n",
    "response_text = response_body[\"outputs\"][0][\"text\"]\n",
    "\n",
    "stop = \"]\"\n",
    "# Check if the stop token is present in the generated text\n",
    "if stop in response_text:\n",
    "    # If the stop token is found, truncate or modify the response\n",
    "    truncated_text = response_text.split(stop)[0]  # Cut off at the stop token\n",
    "    print(truncated_text)\n",
    "else:\n",
    "    # If the stop token isn't found, print the entire generated text\n",
    "    print(response_text)"
   ]
  },
  {
   "cell_type": "markdown",
   "id": "d9b3550d-fa29-43dc-91df-28558a0ddb71",
   "metadata": {},
   "source": [
    "It invents \"Spécialiste en médecine interne\"..."
   ]
  },
  {
   "cell_type": "markdown",
   "id": "70dff415-7d01-48d1-b01a-27892bfb9e0b",
   "metadata": {
    "jp-MarkdownHeadingCollapsed": true
   },
   "source": [
    "### Claude 3.5 Haiku"
   ]
  },
  {
   "cell_type": "code",
   "execution_count": 63,
   "id": "c48da340-a048-4ad7-8d3e-23373a542b91",
   "metadata": {},
   "outputs": [],
   "source": [
    "SYSTEM_PROMPT = \"\"\"You are an assistant helping persons to book medical reservations. You should answer in the same language as the person who \n",
    "needs help. First, the person will tell you what he needs. Then, you will be given options for the reservation. \n",
    "The options will be presented as a list: [0. Option 0, 1. Option 1, ...]. Notice that the options are in French because the customers are in France.\n",
    "You will have to rank the best 3 options from all the listed options, with respect to the needs of the person, or all of them if there are less than 3.\n",
    "If not explitally asked, you must not justify your answer.\n",
    "The format for the answer, that you must imperatively follow, including the '[' and ']', is: [index of best option, index of 2nd best option, index of 3rd best option].\n",
    "The index begins at 0.\\n\"\"\""
   ]
  },
  {
   "cell_type": "code",
   "execution_count": 64,
   "id": "f5c65159-2765-4573-851f-3dc9be5afc93",
   "metadata": {},
   "outputs": [],
   "source": [
    "user_message = \"I have some headeache, I want to visit a doctor.\""
   ]
  },
  {
   "cell_type": "code",
   "execution_count": 65,
   "id": "b173f45e-0ea5-4041-92bf-f47a3f91b223",
   "metadata": {},
   "outputs": [
    {
     "data": {
      "text/plain": [
       "'[0. Chirurgien dermatologique,\\n 1. Laser,\\n 2. Médecin généraliste,\\n 3. Spécialiste en chirurgie plastique reconstructrice et esthétique]'"
      ]
     },
     "execution_count": 65,
     "metadata": {},
     "output_type": "execute_result"
    }
   ],
   "source": [
    "options = [\"Chirurgien dermatologique\", \"Laser\", \"Médecin généraliste\", \"Spécialiste en chirurgie plastique reconstructrice et esthétique\"]\n",
    "options = str([f\"{i}. {option}\" for i, option in enumerate(options)])\n",
    "options = re.sub(r\"'\", \"\", options)\n",
    "options = re.sub(r\",\", \",\\n\", options)\n",
    "options"
   ]
  },
  {
   "cell_type": "code",
   "execution_count": 66,
   "id": "4ef882cc-e942-4eb2-96d0-9b806d91820a",
   "metadata": {},
   "outputs": [],
   "source": [
    "TASK_PROMPT = f\"\"\"Here is the message of the user:\\n\\n{user_message}\\n\\nWhich option is the best?\n",
    "Here is the list of options:\n",
    "{options}\n",
    "Do not explain your answer.\n",
    "Do not forget to answer in the following format, without any addition: [index of best option, index of 2nd best option, index of 3rd best option]\"\"\""
   ]
  },
  {
   "cell_type": "code",
   "execution_count": 67,
   "id": "8284f7ff-55d9-4ea4-84e3-6d15cb30cc42",
   "metadata": {},
   "outputs": [
    {
     "name": "stdout",
     "output_type": "stream",
     "text": [
      "You are an assistant helping persons to book medical reservations. You should answer in the same language as the person who \n",
      "needs help. First, the person will tell you what he needs. Then, you will be given options for the reservation. \n",
      "The options will be presented as a list: [0. Option 0, 1. Option 1, ...]. Notice that the options are in French because the customers are in France.\n",
      "You will have to rank the best 3 options from all the listed options, with respect to the needs of the person, or all of them if there are less than 3.\n",
      "If not explitally asked, you must not justify your answer.\n",
      "The format for the answer, that you must imperatively follow, including the '[' and ']', is: [index of best option, index of 2nd best option, index of 3rd best option].\n",
      "The index begins at 0.\n",
      "Here is the message of the user:\n",
      "\n",
      "I have some headeache, I want to visit a doctor.\n",
      "\n",
      "Which option is the best?\n",
      "Here is the list of options:\n",
      "[0. Chirurgien dermatologique,\n",
      " 1. Laser,\n",
      " 2. Médecin généraliste,\n",
      " 3. Spécialiste en chirurgie plastique reconstructrice et esthétique]\n",
      "Do not explain your answer.\n",
      "Do not forget to answer in the following format, without any addition: [index of best option, index of 2nd best option, index of 3rd best option]\n"
     ]
    }
   ],
   "source": [
    "message = ''.join([SYSTEM_PROMPT, TASK_PROMPT])\n",
    "print(message)"
   ]
  },
  {
   "cell_type": "code",
   "execution_count": 68,
   "id": "0d5911b1-88bb-493f-afcb-af2a73eebbbc",
   "metadata": {},
   "outputs": [
    {
     "name": "stdout",
     "output_type": "stream",
     "text": [
      "[2, 0, 1]\n"
     ]
    }
   ],
   "source": [
    "bedrock = boto3.client(service_name=\"bedrock-runtime\")\n",
    "body = json.dumps({\n",
    "  \"max_tokens\": 256,\n",
    "  \"messages\": [{\"role\": \"user\", \"content\": message}],\n",
    "  \"anthropic_version\": \"bedrock-2023-05-31\"\n",
    "})\n",
    "\n",
    "response = bedrock.invoke_model(body=body, modelId=\"anthropic.claude-3-5-haiku-20241022-v1:0\")\n",
    "\n",
    "response_body = json.loads(response.get(\"body\").read())\n",
    "response_text = response_body['content'][0]['text']\n",
    "print(response_text)"
   ]
  },
  {
   "cell_type": "markdown",
   "id": "84dc6b6f-2b11-46a0-8e4c-e4e43f52b0f0",
   "metadata": {},
   "source": [
    "### LLM decision (Claude)"
   ]
  },
  {
   "cell_type": "code",
   "execution_count": 98,
   "id": "0eb4ff5f-ec32-4db5-9ab5-196ef6fbace8",
   "metadata": {},
   "outputs": [],
   "source": [
    "bedrock = boto3.client(service_name=\"bedrock-runtime\")"
   ]
  },
  {
   "cell_type": "code",
   "execution_count": 99,
   "id": "7c648312-4e56-4b99-84e9-3abf1cbce8c8",
   "metadata": {},
   "outputs": [],
   "source": [
    "def string_to_list(input_string):\n",
    "    # Extract the content between brackets\n",
    "    pattern = r'\\[(.*)\\]'\n",
    "    match = re.search(pattern, input_string)\n",
    "    \n",
    "    if match:\n",
    "        # Get the matched content\n",
    "        content = match.group(1)\n",
    "        \n",
    "        # Split by comma and strip whitespace\n",
    "        elements = [int(elem.strip()) for elem in content.split(',')]\n",
    "        \n",
    "        return elements\n",
    "    else:\n",
    "        return []"
   ]
  },
  {
   "cell_type": "code",
   "execution_count": 100,
   "id": "0d31cd49-3bf5-480b-b6fe-9d9c3b247184",
   "metadata": {},
   "outputs": [],
   "source": [
    "full_conversation = []"
   ]
  },
  {
   "cell_type": "code",
   "execution_count": 101,
   "id": "fa3f6141-1044-41ca-9866-ddea79dd82d4",
   "metadata": {},
   "outputs": [],
   "source": [
    "SYSTEM_PROMPT = \"\"\"You are an assistant helping persons to book medical reservations. You should answer in the same language as the person who \n",
    "needs help. First, the person will tell you what he needs. Then, you will be given options for the reservation. \n",
    "The options will be presented as a list: [0. Option 0, 1. Option 1, ...]. Notice that the options are in French because the customers are in France.\n",
    "You will have to rank the best 3 options from all the listed options, with respect to the needs of the person, or all of them if there are less than 3.\n",
    "If not explicitly asked, you must not explain your answer.\n",
    "The format for the answer, that you must imperatively follow, including the '[' and ']', is: [index of best option, index of the next best option, index of the next best option].\n",
    "The index begins at 0.\\n\"\"\""
   ]
  },
  {
   "cell_type": "code",
   "execution_count": 102,
   "id": "6afc6cb7-de0d-4e15-9a9d-155f62e8f40b",
   "metadata": {},
   "outputs": [],
   "source": [
    "user_message = \"I have some headache, I want to visit a doctor.\" # retrieved from WhatsApp\n",
    "CUSTOMER_PROMPT = f\"\"\"Here is the message of the user:\\n\\n{user_message}\\n\"\"\""
   ]
  },
  {
   "cell_type": "code",
   "execution_count": 103,
   "id": "aec0c53b-4d30-4175-b77b-050f8c767795",
   "metadata": {},
   "outputs": [
    {
     "data": {
      "text/plain": [
       "[{'role': 'user',\n",
       "  'content': \"You are an assistant helping persons to book medical reservations. You should answer in the same language as the person who \\nneeds help. First, the person will tell you what he needs. Then, you will be given options for the reservation. \\nThe options will be presented as a list: [0. Option 0, 1. Option 1, ...]. Notice that the options are in French because the customers are in France.\\nYou will have to rank the best 3 options from all the listed options, with respect to the needs of the person, or all of them if there are less than 3.\\nIf not explicitly asked, you must not explain your answer.\\nThe format for the answer, that you must imperatively follow, including the '[' and ']', is: [index of best option, index of the next best option, index of the next best option].\\nThe index begins at 0.\\nHere is the message of the user:\\n\\nI have some headache, I want to visit a doctor.\\n\"}]"
      ]
     },
     "execution_count": 103,
     "metadata": {},
     "output_type": "execute_result"
    }
   ],
   "source": [
    "full_conversation.append({\"role\": \"user\", \"content\": SYSTEM_PROMPT+CUSTOMER_PROMPT})\n",
    "full_conversation"
   ]
  },
  {
   "cell_type": "code",
   "execution_count": 104,
   "id": "66c07fb3-eee1-4896-b69b-736bd3f9ff3d",
   "metadata": {},
   "outputs": [],
   "source": [
    "def llm_decision(options, current_conversation):\n",
    "    \"\"\"\n",
    "    options: list of the available options\n",
    "    current_conversation: context to allow the LLM to answer\n",
    "    Notice that we could add a 'step' parameter to have a more relevant prompt.\n",
    "\n",
    "    Returns the top 3 most likely answers and the updated conversation\n",
    "    \"\"\"\n",
    "    # Formatting\n",
    "    options = str([f\"{i}. {option}\" for i, option in enumerate(options)])\n",
    "    options = re.sub(r\"'\", \"\", options)\n",
    "    options = re.sub(r\",\", \",\\n\", options)\n",
    "\n",
    "    # Prompt\n",
    "    message = f\"\"\"Which option is the best?\n",
    "Here is the list of options:\n",
    "{options}\n",
    "Do not explain your answer.\n",
    "Do not forget to answer in the following format, without any addition: [index of best option, index of 2nd best option, index of 3rd best option]\\n\"\"\"\n",
    "    prompt = json.dumps(message)\n",
    "    current_conversation.append({\"role\": \"user\", \"content\": message})\n",
    "    body = json.dumps({\n",
    "      \"max_tokens\": 256,\n",
    "      \"messages\": current_conversation,\n",
    "      \"anthropic_version\": \"bedrock-2023-05-31\"\n",
    "    })\n",
    "\n",
    "    # Generate answer\n",
    "    response = bedrock.invoke_model(body=body, modelId=\"anthropic.claude-3-5-haiku-20241022-v1:0\")\n",
    "    response_body = json.loads(response.get(\"body\").read())\n",
    "    response_text = response_body['content'][0]['text']\n",
    "    full_conversation.append({\"role\": \"assistant\", \"content\": response_text+'\\n'})\n",
    "    \n",
    "    return string_to_list(response_text), full_conversation"
   ]
  },
  {
   "cell_type": "code",
   "execution_count": 105,
   "id": "4d72c9cd-663a-4ee2-9fe8-76706a47e8a9",
   "metadata": {},
   "outputs": [],
   "source": [
    "options = [\"Chirurgien dermatologique\", \"Laser\", \"Médecin généraliste\", \"Spécialiste en chirurgie plastique reconstructrice et esthétique\"]"
   ]
  },
  {
   "cell_type": "code",
   "execution_count": 106,
   "id": "c48fcf26-f8fb-426b-902b-d650d904a556",
   "metadata": {},
   "outputs": [
    {
     "data": {
      "text/plain": [
       "([2, 0, 1],\n",
       " [{'role': 'user',\n",
       "   'content': \"You are an assistant helping persons to book medical reservations. You should answer in the same language as the person who \\nneeds help. First, the person will tell you what he needs. Then, you will be given options for the reservation. \\nThe options will be presented as a list: [0. Option 0, 1. Option 1, ...]. Notice that the options are in French because the customers are in France.\\nYou will have to rank the best 3 options from all the listed options, with respect to the needs of the person, or all of them if there are less than 3.\\nIf not explicitly asked, you must not explain your answer.\\nThe format for the answer, that you must imperatively follow, including the '[' and ']', is: [index of best option, index of the next best option, index of the next best option].\\nThe index begins at 0.\\nHere is the message of the user:\\n\\nI have some headache, I want to visit a doctor.\\n\"},\n",
       "  {'role': 'user',\n",
       "   'content': 'Which option is the best?\\nHere is the list of options:\\n[0. Chirurgien dermatologique,\\n 1. Laser,\\n 2. Médecin généraliste,\\n 3. Spécialiste en chirurgie plastique reconstructrice et esthétique]\\nDo not explain your answer.\\nDo not forget to answer in the following format, without any addition: [index of best option, index of 2nd best option, index of 3rd best option]\\n'},\n",
       "  {'role': 'assistant', 'content': '[2, 0, 1]\\n'}])"
      ]
     },
     "execution_count": 106,
     "metadata": {},
     "output_type": "execute_result"
    }
   ],
   "source": [
    "llm_decision(options, full_conversation)"
   ]
  },
  {
   "cell_type": "markdown",
   "id": "b8cd36a8-eecf-471b-89c2-ce075bea769c",
   "metadata": {},
   "source": [
    "### Loop (Claude)"
   ]
  },
  {
   "cell_type": "code",
   "execution_count": null,
   "id": "81110d03-8b2c-43ef-8d54-5b3ec8772759",
   "metadata": {},
   "outputs": [],
   "source": []
  }
 ],
 "metadata": {
  "kernelspec": {
   "display_name": "conda_pytorch_p310",
   "language": "python",
   "name": "conda_pytorch_p310"
  },
  "language_info": {
   "codemirror_mode": {
    "name": "ipython",
    "version": 3
   },
   "file_extension": ".py",
   "mimetype": "text/x-python",
   "name": "python",
   "nbconvert_exporter": "python",
   "pygments_lexer": "ipython3",
   "version": "3.10.14"
  }
 },
 "nbformat": 4,
 "nbformat_minor": 5
}
