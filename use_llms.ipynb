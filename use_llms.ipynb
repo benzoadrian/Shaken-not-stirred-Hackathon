{
 "cells": [
  {
   "cell_type": "code",
   "execution_count": 1,
   "id": "28c03ed8-a7b7-4a99-9cfc-30ed59c7861d",
   "metadata": {},
   "outputs": [],
   "source": [
    "import boto3\n",
    "import json"
   ]
  },
  {
   "cell_type": "markdown",
   "id": "b6576d02-34fc-4e14-adfc-b6fbf662d298",
   "metadata": {},
   "source": [
    "### Mistral 7B"
   ]
  },
  {
   "cell_type": "markdown",
   "id": "98e04998-6313-4e98-8725-b2a527a20f03",
   "metadata": {},
   "source": [
    "Prompt template for Mistral: https://www.promptingguide.ai/models/mistral-7b"
   ]
  },
  {
   "cell_type": "code",
   "execution_count": 2,
   "id": "c919d6b9-3902-4456-837b-df5f3905b554",
   "metadata": {},
   "outputs": [],
   "source": [
    "SYSTEM_PROMPT = \"\"\"<s>[INST] You are an assistant helping persons to book medical reservations. You should answer in the same language as the person who \n",
    "needs help. First, the person will tell you what he needs. Then, you will be given options for the reservation. \n",
    "The options will be presented as a list: [Option A, Option B, ...]. Notice that the options are in French because the customers are in France.\n",
    "You will have to rank the best 3 options from all the listed options, with respect to the needs of the person, or all of them if there are less than 3.\n",
    "If not explitally asked, you must not justify your answer.\n",
    "The format for the answer, that you must imperatively follow, including the '[' and ']', is: [best option, 2nd best option, 3rd best option]\\n\"\"\""
   ]
  },
  {
   "cell_type": "code",
   "execution_count": 3,
   "id": "bf159277-b35a-4e45-8a23-627841b56b22",
   "metadata": {},
   "outputs": [],
   "source": [
    "user_message = \"I have some headeache, I want to visit a doctor.\""
   ]
  },
  {
   "cell_type": "code",
   "execution_count": 4,
   "id": "cdc6fdcf-934b-4df0-bc4c-c6542cb379bb",
   "metadata": {},
   "outputs": [],
   "source": [
    "TASK_PROMPT = f\"\"\"Here is the message of the user:\\n\\n{user_message}\\n\\nWhich type of specialist should this person see?\n",
    "Here is the list of options: \n",
    "[Chirurgien dermatologique, \n",
    "Laser, \n",
    "Médecin généraliste, \n",
    "Spécialiste en chirurgie plastique reconstructrice et esthétique]\n",
    "Do not explain your answer.\n",
    "Do not forget to answer in the following format, without any addition: [best option, 2nd best option, 3rd best option][/INST]\n",
    "[\"\"\""
   ]
  },
  {
   "cell_type": "code",
   "execution_count": 5,
   "id": "6dbcc6b6-f573-4520-be16-79d07a8d290d",
   "metadata": {},
   "outputs": [
    {
     "name": "stdout",
     "output_type": "stream",
     "text": [
      "<s>[INST] You are an assistant helping persons to book medical reservations. You should answer in the same language as the person who \n",
      "needs help. First, the person will tell you what he needs. Then, you will be given options for the reservation. \n",
      "The options will be presented as a list: [Option A, Option B, ...]. Notice that the options are in French because the customers are in France.\n",
      "You will have to rank the best 3 options from all the listed options, with respect to the needs of the person, or all of them if there are less than 3.\n",
      "If not explitally asked, you must not justify your answer.\n",
      "The format for the answer, that you must imperatively follow, including the '[' and ']', is: [best option, 2nd best option, 3rd best option]\n",
      "Here is the message of the user:\n",
      "\n",
      "I have some headeache, I want to visit a doctor.\n",
      "\n",
      "Which type of specialist should this person see?\n",
      "Here is the list of options: \n",
      "[Chirurgien dermatologique, \n",
      "Laser, \n",
      "Médecin généraliste, \n",
      "Spécialiste en chirurgie plastique reconstructrice et esthétique]\n",
      "Do not explain your answer.\n",
      "Do not forget to answer in the following format, without any addition: [best option, 2nd best option, 3rd best option][/INST]\n",
      "[\n"
     ]
    }
   ],
   "source": [
    "message = ''.join([SYSTEM_PROMPT, TASK_PROMPT])\n",
    "prompt = json.dumps(message)\n",
    "print(message)"
   ]
  },
  {
   "cell_type": "code",
   "execution_count": 6,
   "id": "3151f83d-39a2-4516-b4eb-8995ccc0a68c",
   "metadata": {},
   "outputs": [
    {
     "name": "stdout",
     "output_type": "stream",
     "text": [
      "Médecin généraliste\", \"Spécialiste en médecine interne\", \"Chirurgien dermatologique\"\n"
     ]
    }
   ],
   "source": [
    "bedrock = boto3.client(service_name=\"bedrock-runtime\")\n",
    "\n",
    "body = json.dumps({\n",
    "    \"prompt\": prompt,\n",
    "    \"max_tokens\": 512,\n",
    "    \"top_p\": 0.8,\n",
    "    \"temperature\": 0.5,\n",
    "})\n",
    "\n",
    "modelId = \"mistral.mistral-7b-instruct-v0:2\"\n",
    "\n",
    "accept = \"application/json\"\n",
    "contentType = \"application/json\"\n",
    "\n",
    "response = bedrock.invoke_model(\n",
    "    body=body,\n",
    "    modelId=modelId,\n",
    "    accept=accept,\n",
    "    contentType=contentType\n",
    ")\n",
    "\n",
    "# Read and parse the response body\n",
    "response_body = json.loads(response.get('body').read())\n",
    "response_text = response_body[\"outputs\"][0][\"text\"]\n",
    "\n",
    "stop = \"]\"\n",
    "# Check if the stop token is present in the generated text\n",
    "if stop in response_text:\n",
    "    # If the stop token is found, truncate or modify the response\n",
    "    truncated_text = response_text.split(stop)[0]  # Cut off at the stop token\n",
    "    print(truncated_text)\n",
    "else:\n",
    "    # If the stop token isn't found, print the entire generated text\n",
    "    print(response_text)"
   ]
  },
  {
   "cell_type": "markdown",
   "id": "d9b3550d-fa29-43dc-91df-28558a0ddb71",
   "metadata": {},
   "source": [
    "It invents \"Spécialiste en médecine interne\"..."
   ]
  },
  {
   "cell_type": "markdown",
   "id": "70dff415-7d01-48d1-b01a-27892bfb9e0b",
   "metadata": {},
   "source": [
    "### Claude 3.5 Haiku"
   ]
  },
  {
   "cell_type": "code",
   "execution_count": 7,
   "id": "c48da340-a048-4ad7-8d3e-23373a542b91",
   "metadata": {},
   "outputs": [],
   "source": [
    "SYSTEM_PROMPT = \"\"\"You are an assistant helping persons to book medical reservations. You should answer in the same language as the person who \n",
    "needs help. First, the person will tell you what he needs. Then, you will be given options for the reservation. \n",
    "The options will be presented as a list: [Option A, Option B, ...]. Notice that the options are in French because the customers are in France.\n",
    "You will have to rank the best 3 options from all the listed options, with respect to the needs of the person, or all of them if there are less than 3.\n",
    "If not explitally asked, you must not justify your answer.\n",
    "The format for the answer, that you must imperatively follow, including the '[' and ']', is: [best option, 2nd best option, 3rd best option]\\n\"\"\""
   ]
  },
  {
   "cell_type": "code",
   "execution_count": 8,
   "id": "f5c65159-2765-4573-851f-3dc9be5afc93",
   "metadata": {},
   "outputs": [],
   "source": [
    "user_message = \"I have some headeache, I want to visit a doctor.\""
   ]
  },
  {
   "cell_type": "code",
   "execution_count": 9,
   "id": "4ef882cc-e942-4eb2-96d0-9b806d91820a",
   "metadata": {},
   "outputs": [],
   "source": [
    "TASK_PROMPT = f\"\"\"Here is the message of the user:\\n\\n{user_message}\\n\\nWhich type of specialist should this person see?\n",
    "Here is the list of options: \n",
    "[Chirurgien dermatologique, \n",
    "Laser, \n",
    "Médecin généraliste, \n",
    "Spécialiste en chirurgie plastique reconstructrice et esthétique]\n",
    "Do not explain your answer.\n",
    "Do not forget to answer in the following format, without any addition: [best option, 2nd best option, 3rd best option]\"\"\""
   ]
  },
  {
   "cell_type": "code",
   "execution_count": 10,
   "id": "8284f7ff-55d9-4ea4-84e3-6d15cb30cc42",
   "metadata": {},
   "outputs": [
    {
     "name": "stdout",
     "output_type": "stream",
     "text": [
      "You are an assistant helping persons to book medical reservations. You should answer in the same language as the person who \n",
      "needs help. First, the person will tell you what he needs. Then, you will be given options for the reservation. \n",
      "The options will be presented as a list: [Option A, Option B, ...]. Notice that the options are in French because the customers are in France.\n",
      "You will have to rank the best 3 options from all the listed options, with respect to the needs of the person, or all of them if there are less than 3.\n",
      "If not explitally asked, you must not justify your answer.\n",
      "The format for the answer, that you must imperatively follow, including the '[' and ']', is: [best option, 2nd best option, 3rd best option]\n",
      "Here is the message of the user:\n",
      "\n",
      "I have some headeache, I want to visit a doctor.\n",
      "\n",
      "Which type of specialist should this person see?\n",
      "Here is the list of options: \n",
      "[Chirurgien dermatologique, \n",
      "Laser, \n",
      "Médecin généraliste, \n",
      "Spécialiste en chirurgie plastique reconstructrice et esthétique]\n",
      "Do not explain your answer.\n",
      "Do not forget to answer in the following format, without any addition: [best option, 2nd best option, 3rd best option]\n"
     ]
    }
   ],
   "source": [
    "message = ''.join([SYSTEM_PROMPT, TASK_PROMPT])\n",
    "prompt = json.dumps(message)\n",
    "print(message)"
   ]
  },
  {
   "cell_type": "code",
   "execution_count": 11,
   "id": "0d5911b1-88bb-493f-afcb-af2a73eebbbc",
   "metadata": {},
   "outputs": [
    {
     "name": "stdout",
     "output_type": "stream",
     "text": [
      "[Médecin généraliste, Chirurgien dermatologique, Laser]\n"
     ]
    }
   ],
   "source": [
    "bedrock = boto3.client(service_name=\"bedrock-runtime\")\n",
    "body = json.dumps({\n",
    "  \"max_tokens\": 256,\n",
    "  \"messages\": [{\"role\": \"user\", \"content\": message}],\n",
    "  \"anthropic_version\": \"bedrock-2023-05-31\"\n",
    "})\n",
    "\n",
    "response = bedrock.invoke_model(body=body, modelId=\"anthropic.claude-3-5-haiku-20241022-v1:0\")\n",
    "\n",
    "response_body = json.loads(response.get(\"body\").read())\n",
    "response_text = response_body['content'][0]['text']\n",
    "print(response_text)"
   ]
  }
 ],
 "metadata": {
  "kernelspec": {
   "display_name": "conda_pytorch_p310",
   "language": "python",
   "name": "conda_pytorch_p310"
  },
  "language_info": {
   "codemirror_mode": {
    "name": "ipython",
    "version": 3
   },
   "file_extension": ".py",
   "mimetype": "text/x-python",
   "name": "python",
   "nbconvert_exporter": "python",
   "pygments_lexer": "ipython3",
   "version": "3.10.14"
  }
 },
 "nbformat": 4,
 "nbformat_minor": 5
}
